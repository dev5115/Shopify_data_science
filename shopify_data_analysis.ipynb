{
  "nbformat": 4,
  "nbformat_minor": 0,
  "metadata": {
    "colab": {
      "name": "shopify_data_analysis.ipynb",
      "provenance": [],
      "collapsed_sections": []
    },
    "kernelspec": {
      "name": "python3",
      "display_name": "Python 3"
    },
    "language_info": {
      "name": "python"
    }
  },
  "cells": [
    {
      "cell_type": "markdown",
      "metadata": {
        "id": "quC84GfuDeoh"
      },
      "source": [
        "Importing the libraries"
      ]
    },
    {
      "cell_type": "code",
      "metadata": {
        "id": "luN0C9af_S6g"
      },
      "source": [
        "#data\n",
        "import pandas as pd\n",
        "import seaborn as sns\n",
        "import matplotlib.pyplot as plt"
      ],
      "execution_count": 1,
      "outputs": []
    },
    {
      "cell_type": "markdown",
      "metadata": {
        "id": "qtzR6En1DmV0"
      },
      "source": [
        "Importing the dataset using pandas library. The dataset is in the format of Comma separated values format. We have to import the data so that we can data analysis."
      ]
    },
    {
      "cell_type": "code",
      "metadata": {
        "colab": {
          "base_uri": "https://localhost:8080/",
          "height": 206
        },
        "id": "8Zc7BOgn_mUM",
        "outputId": "a3e646c6-3add-4575-fbc6-bff756a41b10"
      },
      "source": [
        "data=pd.read_csv('/content/drive/MyDrive/2019 Winter Data Science Intern Challenge Data Set - Sheet1.csv')\n",
        "data.head()"
      ],
      "execution_count": 11,
      "outputs": [
        {
          "output_type": "execute_result",
          "data": {
            "text/html": [
              "<div>\n",
              "<style scoped>\n",
              "    .dataframe tbody tr th:only-of-type {\n",
              "        vertical-align: middle;\n",
              "    }\n",
              "\n",
              "    .dataframe tbody tr th {\n",
              "        vertical-align: top;\n",
              "    }\n",
              "\n",
              "    .dataframe thead th {\n",
              "        text-align: right;\n",
              "    }\n",
              "</style>\n",
              "<table border=\"1\" class=\"dataframe\">\n",
              "  <thead>\n",
              "    <tr style=\"text-align: right;\">\n",
              "      <th></th>\n",
              "      <th>order_id</th>\n",
              "      <th>shop_id</th>\n",
              "      <th>user_id</th>\n",
              "      <th>order_amount</th>\n",
              "      <th>total_items</th>\n",
              "      <th>payment_method</th>\n",
              "      <th>created_at</th>\n",
              "    </tr>\n",
              "  </thead>\n",
              "  <tbody>\n",
              "    <tr>\n",
              "      <th>0</th>\n",
              "      <td>1</td>\n",
              "      <td>53</td>\n",
              "      <td>746</td>\n",
              "      <td>224</td>\n",
              "      <td>2</td>\n",
              "      <td>cash</td>\n",
              "      <td>2017-03-13 12:36:56</td>\n",
              "    </tr>\n",
              "    <tr>\n",
              "      <th>1</th>\n",
              "      <td>2</td>\n",
              "      <td>92</td>\n",
              "      <td>925</td>\n",
              "      <td>90</td>\n",
              "      <td>1</td>\n",
              "      <td>cash</td>\n",
              "      <td>2017-03-03 17:38:52</td>\n",
              "    </tr>\n",
              "    <tr>\n",
              "      <th>2</th>\n",
              "      <td>3</td>\n",
              "      <td>44</td>\n",
              "      <td>861</td>\n",
              "      <td>144</td>\n",
              "      <td>1</td>\n",
              "      <td>cash</td>\n",
              "      <td>2017-03-14 4:23:56</td>\n",
              "    </tr>\n",
              "    <tr>\n",
              "      <th>3</th>\n",
              "      <td>4</td>\n",
              "      <td>18</td>\n",
              "      <td>935</td>\n",
              "      <td>156</td>\n",
              "      <td>1</td>\n",
              "      <td>credit_card</td>\n",
              "      <td>2017-03-26 12:43:37</td>\n",
              "    </tr>\n",
              "    <tr>\n",
              "      <th>4</th>\n",
              "      <td>5</td>\n",
              "      <td>18</td>\n",
              "      <td>883</td>\n",
              "      <td>156</td>\n",
              "      <td>1</td>\n",
              "      <td>credit_card</td>\n",
              "      <td>2017-03-01 4:35:11</td>\n",
              "    </tr>\n",
              "  </tbody>\n",
              "</table>\n",
              "</div>"
            ],
            "text/plain": [
              "   order_id  shop_id  user_id  ...  total_items  payment_method           created_at\n",
              "0         1       53      746  ...            2            cash  2017-03-13 12:36:56\n",
              "1         2       92      925  ...            1            cash  2017-03-03 17:38:52\n",
              "2         3       44      861  ...            1            cash   2017-03-14 4:23:56\n",
              "3         4       18      935  ...            1     credit_card  2017-03-26 12:43:37\n",
              "4         5       18      883  ...            1     credit_card   2017-03-01 4:35:11\n",
              "\n",
              "[5 rows x 7 columns]"
            ]
          },
          "metadata": {
            "tags": []
          },
          "execution_count": 11
        }
      ]
    },
    {
      "cell_type": "markdown",
      "metadata": {
        "id": "WplwmwBqEHuI"
      },
      "source": [
        "Checking for missing values since missing values can lead to skewness in the data. If missing values are found we have to replace it with zero or median or mode values."
      ]
    },
    {
      "cell_type": "code",
      "metadata": {
        "colab": {
          "base_uri": "https://localhost:8080/",
          "height": 269
        },
        "id": "F3GrCSh1aUhV",
        "outputId": "e7f667aa-b0db-4db2-c51c-ce9b7043ecf4"
      },
      "source": [
        "#to know the missing values of customers\n",
        "total = data.isnull().sum().sort_values(ascending=False)\n",
        "percent = (data.isnull().sum()/data.isnull().count()).sort_values(ascending=False)\n",
        "missing_data = pd.concat([total, percent], axis=1, keys=['Total', 'Percent'])\n",
        "missing_data.head(20)"
      ],
      "execution_count": 3,
      "outputs": [
        {
          "output_type": "execute_result",
          "data": {
            "text/html": [
              "<div>\n",
              "<style scoped>\n",
              "    .dataframe tbody tr th:only-of-type {\n",
              "        vertical-align: middle;\n",
              "    }\n",
              "\n",
              "    .dataframe tbody tr th {\n",
              "        vertical-align: top;\n",
              "    }\n",
              "\n",
              "    .dataframe thead th {\n",
              "        text-align: right;\n",
              "    }\n",
              "</style>\n",
              "<table border=\"1\" class=\"dataframe\">\n",
              "  <thead>\n",
              "    <tr style=\"text-align: right;\">\n",
              "      <th></th>\n",
              "      <th>Total</th>\n",
              "      <th>Percent</th>\n",
              "    </tr>\n",
              "  </thead>\n",
              "  <tbody>\n",
              "    <tr>\n",
              "      <th>created_at</th>\n",
              "      <td>0</td>\n",
              "      <td>0.0</td>\n",
              "    </tr>\n",
              "    <tr>\n",
              "      <th>payment_method</th>\n",
              "      <td>0</td>\n",
              "      <td>0.0</td>\n",
              "    </tr>\n",
              "    <tr>\n",
              "      <th>total_items</th>\n",
              "      <td>0</td>\n",
              "      <td>0.0</td>\n",
              "    </tr>\n",
              "    <tr>\n",
              "      <th>order_amount</th>\n",
              "      <td>0</td>\n",
              "      <td>0.0</td>\n",
              "    </tr>\n",
              "    <tr>\n",
              "      <th>user_id</th>\n",
              "      <td>0</td>\n",
              "      <td>0.0</td>\n",
              "    </tr>\n",
              "    <tr>\n",
              "      <th>shop_id</th>\n",
              "      <td>0</td>\n",
              "      <td>0.0</td>\n",
              "    </tr>\n",
              "    <tr>\n",
              "      <th>order_id</th>\n",
              "      <td>0</td>\n",
              "      <td>0.0</td>\n",
              "    </tr>\n",
              "  </tbody>\n",
              "</table>\n",
              "</div>"
            ],
            "text/plain": [
              "                Total  Percent\n",
              "created_at          0      0.0\n",
              "payment_method      0      0.0\n",
              "total_items         0      0.0\n",
              "order_amount        0      0.0\n",
              "user_id             0      0.0\n",
              "shop_id             0      0.0\n",
              "order_id            0      0.0"
            ]
          },
          "metadata": {
            "tags": []
          },
          "execution_count": 3
        }
      ]
    },
    {
      "cell_type": "markdown",
      "metadata": {
        "id": "Mut28ZMPEmqV"
      },
      "source": [
        "There are no missing values in the dataset."
      ]
    },
    {
      "cell_type": "markdown",
      "metadata": {
        "id": "SaQtu0GCEr61"
      },
      "source": [
        "First we have to find the destribution of numerical values in the dataset. We can find the mean , standard deviation, min or max values in the dataset. "
      ]
    },
    {
      "cell_type": "code",
      "metadata": {
        "colab": {
          "base_uri": "https://localhost:8080/",
          "height": 300
        },
        "id": "sb0nCUQ0DMA5",
        "outputId": "fb07d5f1-20a9-4886-afd2-3f309bda9123"
      },
      "source": [
        "data.describe()"
      ],
      "execution_count": 5,
      "outputs": [
        {
          "output_type": "execute_result",
          "data": {
            "text/html": [
              "<div>\n",
              "<style scoped>\n",
              "    .dataframe tbody tr th:only-of-type {\n",
              "        vertical-align: middle;\n",
              "    }\n",
              "\n",
              "    .dataframe tbody tr th {\n",
              "        vertical-align: top;\n",
              "    }\n",
              "\n",
              "    .dataframe thead th {\n",
              "        text-align: right;\n",
              "    }\n",
              "</style>\n",
              "<table border=\"1\" class=\"dataframe\">\n",
              "  <thead>\n",
              "    <tr style=\"text-align: right;\">\n",
              "      <th></th>\n",
              "      <th>order_id</th>\n",
              "      <th>shop_id</th>\n",
              "      <th>user_id</th>\n",
              "      <th>order_amount</th>\n",
              "      <th>total_items</th>\n",
              "    </tr>\n",
              "  </thead>\n",
              "  <tbody>\n",
              "    <tr>\n",
              "      <th>count</th>\n",
              "      <td>5000.000000</td>\n",
              "      <td>5000.000000</td>\n",
              "      <td>5000.000000</td>\n",
              "      <td>5000.000000</td>\n",
              "      <td>5000.00000</td>\n",
              "    </tr>\n",
              "    <tr>\n",
              "      <th>mean</th>\n",
              "      <td>2500.500000</td>\n",
              "      <td>50.078800</td>\n",
              "      <td>849.092400</td>\n",
              "      <td>3145.128000</td>\n",
              "      <td>8.78720</td>\n",
              "    </tr>\n",
              "    <tr>\n",
              "      <th>std</th>\n",
              "      <td>1443.520003</td>\n",
              "      <td>29.006118</td>\n",
              "      <td>87.798982</td>\n",
              "      <td>41282.539349</td>\n",
              "      <td>116.32032</td>\n",
              "    </tr>\n",
              "    <tr>\n",
              "      <th>min</th>\n",
              "      <td>1.000000</td>\n",
              "      <td>1.000000</td>\n",
              "      <td>607.000000</td>\n",
              "      <td>90.000000</td>\n",
              "      <td>1.00000</td>\n",
              "    </tr>\n",
              "    <tr>\n",
              "      <th>25%</th>\n",
              "      <td>1250.750000</td>\n",
              "      <td>24.000000</td>\n",
              "      <td>775.000000</td>\n",
              "      <td>163.000000</td>\n",
              "      <td>1.00000</td>\n",
              "    </tr>\n",
              "    <tr>\n",
              "      <th>50%</th>\n",
              "      <td>2500.500000</td>\n",
              "      <td>50.000000</td>\n",
              "      <td>849.000000</td>\n",
              "      <td>284.000000</td>\n",
              "      <td>2.00000</td>\n",
              "    </tr>\n",
              "    <tr>\n",
              "      <th>75%</th>\n",
              "      <td>3750.250000</td>\n",
              "      <td>75.000000</td>\n",
              "      <td>925.000000</td>\n",
              "      <td>390.000000</td>\n",
              "      <td>3.00000</td>\n",
              "    </tr>\n",
              "    <tr>\n",
              "      <th>max</th>\n",
              "      <td>5000.000000</td>\n",
              "      <td>100.000000</td>\n",
              "      <td>999.000000</td>\n",
              "      <td>704000.000000</td>\n",
              "      <td>2000.00000</td>\n",
              "    </tr>\n",
              "  </tbody>\n",
              "</table>\n",
              "</div>"
            ],
            "text/plain": [
              "          order_id      shop_id      user_id   order_amount  total_items\n",
              "count  5000.000000  5000.000000  5000.000000    5000.000000   5000.00000\n",
              "mean   2500.500000    50.078800   849.092400    3145.128000      8.78720\n",
              "std    1443.520003    29.006118    87.798982   41282.539349    116.32032\n",
              "min       1.000000     1.000000   607.000000      90.000000      1.00000\n",
              "25%    1250.750000    24.000000   775.000000     163.000000      1.00000\n",
              "50%    2500.500000    50.000000   849.000000     284.000000      2.00000\n",
              "75%    3750.250000    75.000000   925.000000     390.000000      3.00000\n",
              "max    5000.000000   100.000000   999.000000  704000.000000   2000.00000"
            ]
          },
          "metadata": {
            "tags": []
          },
          "execution_count": 5
        }
      ]
    },
    {
      "cell_type": "code",
      "metadata": {
        "colab": {
          "base_uri": "https://localhost:8080/"
        },
        "id": "1yhNYherH2Ex",
        "outputId": "8da2d444-50d9-4528-da25-735e8de500bf"
      },
      "source": [
        "#Calculating the AOV\n",
        "AOV=data.order_amount.sum()/data.order_amount.count()"
      ],
      "execution_count": 33,
      "outputs": [
        {
          "output_type": "execute_result",
          "data": {
            "text/plain": [
              "3145.128"
            ]
          },
          "metadata": {
            "tags": []
          },
          "execution_count": 33
        }
      ]
    },
    {
      "cell_type": "markdown",
      "metadata": {
        "id": "8Jz0HWYxFYXW"
      },
      "source": [
        "## Answer to the first question of how the value of AOV is calculated as  $3145.13?\n",
        "\n",
        "AOV(Average Order Value) is a metric to monitor as you grow your business. Traditionally, it’s one of the first numbers business owners try to improve to increase revenue or optimize return on ad spend.\n",
        "\n",
        "AOV= Sum of order_amount / No of orders\n",
        "\n",
        "As you can see that mean of column 'order_amount' is 3145.128000. It can be rounded to two decimal places then the answer is 3145.13.\n",
        "\n",
        "AOV of this dataset is wrongly calculated as $3145.13 as they took the mean of the column 'order_amount'. \n",
        "\n",
        "Another reason why we should not take mean as the AOV value in this case is because \n",
        "Minimum value of an order = $90,\n",
        "\n",
        "Maximun value of an order = $704000 and\n",
        "\n",
        "Standard deviation =41282.539.\n",
        "This means that on average, the values of column 'order_amount' vary 41282.539 from the mean value.\n",
        "The high values like 704000 might be the reason for mean of the order_column is high. There are outliers in the data."
      ]
    },
    {
      "cell_type": "markdown",
      "metadata": {
        "id": "9ljQ0TzOOuQT"
      },
      "source": [
        "## Univariate Analysis of Column 'order_amount'"
      ]
    },
    {
      "cell_type": "code",
      "metadata": {
        "id": "L5mF_fxrdD52",
        "colab": {
          "base_uri": "https://localhost:8080/",
          "height": 403
        },
        "outputId": "17e7d6d0-4e49-4ec5-b4ed-72b32e6ca566"
      },
      "source": [
        "plt.figure(1)\n",
        "plt.subplot(121)\n",
        "sns.distplot(data['order_amount']);\n",
        "\n",
        "plt.subplot(122)\n",
        "data['order_amount'].plot.box(figsize=(16,5))\n",
        "\n",
        "plt.show();"
      ],
      "execution_count": 8,
      "outputs": [
        {
          "output_type": "stream",
          "text": [
            "/usr/local/lib/python3.7/dist-packages/seaborn/distributions.py:2557: FutureWarning: `distplot` is a deprecated function and will be removed in a future version. Please adapt your code to use either `displot` (a figure-level function with similar flexibility) or `histplot` (an axes-level function for histograms).\n",
            "  warnings.warn(msg, FutureWarning)\n"
          ],
          "name": "stderr"
        },
        {
          "output_type": "display_data",
          "data": {
            "image/png": "[encoded data removed]",
            "text/plain": [
              "<Figure size 1152x360 with 2 Axes>"
            ]
          },
          "metadata": {
            "tags": [],
            "needs_background": "light"
          }
        }
      ]
    },
    {
      "cell_type": "markdown",
      "metadata": {
        "id": "8NqNQiYvPCk_"
      },
      "source": [
        "From the above graph we can understand that values of order_amount is not normally distributed. They are skewed in the low order values. And the higher order value such as  704000.000000 is an outlier."
      ]
    },
    {
      "cell_type": "code",
      "metadata": {
        "id": "QVtdIYUxAVgp",
        "colab": {
          "base_uri": "https://localhost:8080/",
          "height": 206
        },
        "outputId": "b016b30f-7c18-4d9e-f3e1-3ac0a354e844"
      },
      "source": [
        "df_unique=data.groupby('order_amount').size().reset_index(name='count').sort_values(by='order_amount',ascending=False)\n",
        "df_unique.head()"
      ],
      "execution_count": 49,
      "outputs": [
        {
          "output_type": "execute_result",
          "data": {
            "text/html": [
              "<div>\n",
              "<style scoped>\n",
              "    .dataframe tbody tr th:only-of-type {\n",
              "        vertical-align: middle;\n",
              "    }\n",
              "\n",
              "    .dataframe tbody tr th {\n",
              "        vertical-align: top;\n",
              "    }\n",
              "\n",
              "    .dataframe thead th {\n",
              "        text-align: right;\n",
              "    }\n",
              "</style>\n",
              "<table border=\"1\" class=\"dataframe\">\n",
              "  <thead>\n",
              "    <tr style=\"text-align: right;\">\n",
              "      <th></th>\n",
              "      <th>order_amount</th>\n",
              "      <th>count</th>\n",
              "    </tr>\n",
              "  </thead>\n",
              "  <tbody>\n",
              "    <tr>\n",
              "      <th>257</th>\n",
              "      <td>704000</td>\n",
              "      <td>17</td>\n",
              "    </tr>\n",
              "    <tr>\n",
              "      <th>256</th>\n",
              "      <td>154350</td>\n",
              "      <td>1</td>\n",
              "    </tr>\n",
              "    <tr>\n",
              "      <th>255</th>\n",
              "      <td>102900</td>\n",
              "      <td>1</td>\n",
              "    </tr>\n",
              "    <tr>\n",
              "      <th>254</th>\n",
              "      <td>77175</td>\n",
              "      <td>9</td>\n",
              "    </tr>\n",
              "    <tr>\n",
              "      <th>253</th>\n",
              "      <td>51450</td>\n",
              "      <td>16</td>\n",
              "    </tr>\n",
              "  </tbody>\n",
              "</table>\n",
              "</div>"
            ],
            "text/plain": [
              "     order_amount  count\n",
              "257        704000     17\n",
              "256        154350      1\n",
              "255        102900      1\n",
              "254         77175      9\n",
              "253         51450     16"
            ]
          },
          "metadata": {
            "tags": []
          },
          "execution_count": 49
        }
      ]
    },
    {
      "cell_type": "markdown",
      "metadata": {
        "id": "gVpbB3yIVKbG"
      },
      "source": [
        "704000 is an outlier of the column order_amount.\n",
        "\n",
        "##Calculating the median value of the column order_amount."
      ]
    },
    {
      "cell_type": "code",
      "metadata": {
        "colab": {
          "base_uri": "https://localhost:8080/"
        },
        "id": "LNuILilDzOyu",
        "outputId": "6b69cfd2-7b12-4bdc-f17c-3aa5f7d8117e"
      },
      "source": [
        "data.order_amount.mode()"
      ],
      "execution_count": 24,
      "outputs": [
        {
          "output_type": "execute_result",
          "data": {
            "text/plain": [
              "0    153\n",
              "dtype: int64"
            ]
          },
          "metadata": {
            "tags": []
          },
          "execution_count": 24
        }
      ]
    },
    {
      "cell_type": "code",
      "metadata": {
        "colab": {
          "base_uri": "https://localhost:8080/"
        },
        "id": "xwvWTmJZ0iCz",
        "outputId": "48674c8b-cd4e-4ece-cf3d-8c77ad832158"
      },
      "source": [
        "data.order_amount.value_counts()"
      ],
      "execution_count": 25,
      "outputs": [
        {
          "output_type": "execute_result",
          "data": {
            "text/plain": [
              "153    87\n",
              "306    85\n",
              "354    82\n",
              "312    75\n",
              "156    75\n",
              "       ..\n",
              "404     1\n",
              "948     1\n",
              "920     1\n",
              "816     1\n",
              "980     1\n",
              "Name: order_amount, Length: 258, dtype: int64"
            ]
          },
          "metadata": {
            "tags": []
          },
          "execution_count": 25
        }
      ]
    },
    {
      "cell_type": "code",
      "metadata": {
        "colab": {
          "base_uri": "https://localhost:8080/"
        },
        "id": "-nj-_RZOBcqm",
        "outputId": "93779826-b473-46de-c0f2-0af2f79ed0dc"
      },
      "source": [
        "data.order_amount.median()"
      ],
      "execution_count": 26,
      "outputs": [
        {
          "output_type": "execute_result",
          "data": {
            "text/plain": [
              "284.0"
            ]
          },
          "metadata": {
            "tags": []
          },
          "execution_count": 26
        }
      ]
    },
    {
      "cell_type": "markdown",
      "metadata": {
        "id": "YWlvqlu2VVW-"
      },
      "source": [
        "## What metric would you report for this dataset?\n",
        "\n",
        "I would use mode metric for this kind of skewed data. Since mode is the value which is the most repeated value in a data. That would be much more reliable.\n",
        "Chances of the bulk order for the amount of 704000 is very less. In this dataset it occured only 17 times.But the mode value of column 153 occured 87 times. The mode value is also close to the median value."
      ]
    },
    {
      "cell_type": "markdown",
      "metadata": {
        "id": "05NhGWCaXkYY"
      },
      "source": [
        "##What is its value?\n",
        "\n",
        "The mode value of the column is 153."
      ]
    },
    {
      "cell_type": "code",
      "metadata": {
        "id": "YauzuaXwCwgl"
      },
      "source": [
        ""
      ],
      "execution_count": null,
      "outputs": []
    }
  ]
}